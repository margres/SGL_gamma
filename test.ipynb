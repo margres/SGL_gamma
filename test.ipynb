{
 "cells": [
  {
   "cell_type": "code",
   "execution_count": 3,
   "metadata": {},
   "outputs": [
    {
     "name": "stderr",
     "output_type": "stream",
     "text": [
      "<frozen importlib._bootstrap>:219: RuntimeWarning: numpy.ndarray size changed, may indicate binary incompatibility. Expected 80 from C header, got 88 from PyObject\n"
     ]
    }
   ],
   "source": [
    "import os\n",
    "from astropy.table import Table "
   ]
  },
  {
   "cell_type": "code",
   "execution_count": 2,
   "metadata": {},
   "outputs": [],
   "source": [
    "path_project='/home/grespanm/github/SLcosmological_parameters/SGL_gamma/'"
   ]
  },
  {
   "cell_type": "code",
   "execution_count": 41,
   "metadata": {},
   "outputs": [],
   "source": [
    "table_GP = '/home/grespanm/github/SLcosmological_parameters/SGL_gamma/Output/GP/LensTable_dd_GP.fits'\n",
    "table_ANN = '/home/grespanm/github/SLcosmological_parameters/SGL_gamma/Output/ANN/LensTable_dd_ANN.fits'"
   ]
  },
  {
   "cell_type": "code",
   "execution_count": 46,
   "metadata": {},
   "outputs": [],
   "source": [
    "t_gp = Table.read(table_GP)"
   ]
  },
  {
   "cell_type": "code",
   "execution_count": 48,
   "metadata": {},
   "outputs": [
    {
     "data": {
      "text/html": [
       "<i>Table masked=True length=161</i>\n",
       "<table id=\"table140533521057632\" class=\"table-striped table-bordered table-condensed\">\n",
       "<thead><tr><th>index</th><th>lensName</th><th>survey</th><th>zl</th><th>zs</th><th>theta_E</th><th>theta_eff</th><th>theta_ap</th><th>sigma_ap</th><th>sigma_ap_err</th><th>gamma_E2022LD</th><th>gamma_E2022LD_err</th><th>gamma_E2022OL</th><th>gamma_E2022OL_err_up</th><th>gamma_E2022OL_err_low</th><th>dd_from_GP</th><th>dd_error_from_GP</th></tr></thead>\n",
       "<thead><tr><th>int32</th><th>bytes14</th><th>bytes15</th><th>float32</th><th>float32</th><th>float32</th><th>float32</th><th>float32</th><th>float32</th><th>float32</th><th>float64</th><th>float64</th><th>float64</th><th>float64</th><th>float64</th><th>float64</th><th>float64</th></tr></thead>\n",
       "<tr><td>0</td><td>MG2016+112</td><td>LSD</td><td>1.004</td><td>3.263</td><td>1.56</td><td>0.31</td><td>0.65</td><td>304.0</td><td>27.0</td><td>nan</td><td>nan</td><td>nan</td><td>nan</td><td>nan</td><td>1.0</td><td>1.4142135623730951</td></tr>\n",
       "<tr><td>1</td><td>0047-281</td><td>LSD</td><td>0.485</td><td>3.595</td><td>1.34</td><td>0.82</td><td>0.41</td><td>219.0</td><td>12.0</td><td>nan</td><td>nan</td><td>nan</td><td>nan</td><td>nan</td><td>1.0</td><td>1.4142135623730951</td></tr>\n",
       "<tr><td>2</td><td>CFRS03.1077</td><td>LSD</td><td>0.938</td><td>2.941</td><td>1.24</td><td>1.6</td><td>0.46</td><td>256.0</td><td>19.0</td><td>nan</td><td>nan</td><td>nan</td><td>nan</td><td>nan</td><td>1.0</td><td>1.4142135623730951</td></tr>\n",
       "<tr><td>3</td><td>HST14176+5226</td><td>LSD</td><td>0.81</td><td>3.399</td><td>1.41</td><td>1.06</td><td>0.37</td><td>212.0</td><td>18.0</td><td>nan</td><td>nan</td><td>nan</td><td>nan</td><td>nan</td><td>1.0</td><td>1.4142135623730951</td></tr>\n",
       "<tr><td>4</td><td>HSTT15433+5352</td><td>LSD</td><td>0.497</td><td>2.092</td><td>0.36</td><td>0.41</td><td>0.35</td><td>108.0</td><td>14.0</td><td>nan</td><td>nan</td><td>nan</td><td>nan</td><td>nan</td><td>1.0</td><td>1.4142135623730951</td></tr>\n",
       "<tr><td>5</td><td>SL2SJ0205-9302</td><td>SL2S</td><td>0.557</td><td>1.33</td><td>0.76</td><td>0.75</td><td>0.69</td><td>276.0</td><td>37.0</td><td>nan</td><td>nan</td><td>nan</td><td>nan</td><td>nan</td><td>0.48532036997473127</td><td>0.02685808478432862</td></tr>\n",
       "<tr><td>6</td><td>SL2SJ0212-0555</td><td>SL2S</td><td>0.75</td><td>2.74</td><td>1.27</td><td>1.22</td><td>0.69</td><td>273.0</td><td>22.0</td><td>nan</td><td>nan</td><td>nan</td><td>nan</td><td>nan</td><td>1.0</td><td>1.4142135623730951</td></tr>\n",
       "<tr><td>7</td><td>SL2SJ0213-0743</td><td>SL2S</td><td>0.717</td><td>3.48</td><td>2.39</td><td>1.97</td><td>0.75</td><td>293.0</td><td>34.0</td><td>nan</td><td>nan</td><td>nan</td><td>nan</td><td>nan</td><td>1.0</td><td>1.4142135623730951</td></tr>\n",
       "<tr><td>8</td><td>SL2SJ0214-0405</td><td>SL2S</td><td>0.609</td><td>1.88</td><td>1.41</td><td>1.21</td><td>0.79</td><td>287.0</td><td>47.0</td><td>nan</td><td>nan</td><td>nan</td><td>nan</td><td>nan</td><td>0.5564399308299143</td><td>0.03530725726876637</td></tr>\n",
       "<tr><td>9</td><td>SL2SJ0217-0513</td><td>SL2S</td><td>0.646</td><td>1.85</td><td>1.27</td><td>0.73</td><td>0.92</td><td>239.0</td><td>27.0</td><td>nan</td><td>nan</td><td>nan</td><td>nan</td><td>nan</td><td>0.5296831792197406</td><td>0.03339711765307568</td></tr>\n",
       "<tr><td>...</td><td>...</td><td>...</td><td>...</td><td>...</td><td>...</td><td>...</td><td>...</td><td>...</td><td>...</td><td>...</td><td>...</td><td>...</td><td>...</td><td>...</td><td>...</td><td>...</td></tr>\n",
       "<tr><td>151</td><td>SDSSJ0755+3445</td><td>BELLS GALLERY</td><td>0.7224</td><td>2.6347</td><td>2.05</td><td>2.89</td><td>1.0</td><td>272.0</td><td>52.0</td><td>1.72</td><td>0.28</td><td>1.77</td><td>0.08</td><td>-0.05</td><td>1.0</td><td>1.4142135623730951</td></tr>\n",
       "<tr><td>152</td><td>SDSSJ0856+2010</td><td>BELLS GALLERY</td><td>0.5074</td><td>2.2335</td><td>0.98</td><td>0.51</td><td>1.0</td><td>334.0</td><td>54.0</td><td>2.55</td><td>0.23</td><td>2.23</td><td>0.08</td><td>-0.09</td><td>1.0</td><td>1.4142135623730951</td></tr>\n",
       "<tr><td>153</td><td>SDSSJ0918+5104</td><td>BELLS GALLERY</td><td>0.5811</td><td>2.403</td><td>1.6</td><td>0.57</td><td>1.0</td><td>298.0</td><td>49.0</td><td>2.14</td><td>0.26</td><td>2.38</td><td>0.16</td><td>-0.18</td><td>1.0</td><td>1.4142135623730951</td></tr>\n",
       "<tr><td>154</td><td>SDSSJ1110+2808</td><td>BELLS GALLERY</td><td>0.6073</td><td>2.3999</td><td>0.98</td><td>1.45</td><td>1.0</td><td>191.0</td><td>39.0</td><td>1.88</td><td>0.3</td><td>2.03</td><td>0.09</td><td>-0.07</td><td>1.0</td><td>1.4142135623730951</td></tr>\n",
       "<tr><td>155</td><td>SDSSJ1116+0915</td><td>BELLS GALLERY</td><td>0.5501</td><td>2.4536</td><td>1.03</td><td>0.98</td><td>1.0</td><td>274.0</td><td>55.0</td><td>2.23</td><td>0.25</td><td>2.22</td><td>0.16</td><td>-0.17</td><td>1.0</td><td>1.4142135623730951</td></tr>\n",
       "<tr><td>156</td><td>SDSSJ1141+2216</td><td>BELLS GALLERY</td><td>0.5858</td><td>2.7624</td><td>1.27</td><td>0.44</td><td>1.0</td><td>285.0</td><td>44.0</td><td>2.22</td><td>0.26</td><td>2.13</td><td>0.09</td><td>-0.11</td><td>1.0</td><td>1.4142135623730951</td></tr>\n",
       "<tr><td>157</td><td>SDSSJ1201+4743</td><td>BELLS GALLERY</td><td>0.5628</td><td>2.1258</td><td>1.18</td><td>0.48</td><td>1.0</td><td>239.0</td><td>43.0</td><td>2.09</td><td>0.27</td><td>2.74</td><td>0.05</td><td>-0.21</td><td>1.0</td><td>1.4142135623730951</td></tr>\n",
       "<tr><td>158</td><td>SDSSJ1226+5457</td><td>BELLS GALLERY</td><td>0.498</td><td>2.7322</td><td>1.37</td><td>0.56</td><td>1.0</td><td>248.0</td><td>26.0</td><td>2.06</td><td>0.21</td><td>2.24</td><td>0.07</td><td>-0.1</td><td>1.0</td><td>1.4142135623730951</td></tr>\n",
       "<tr><td>159</td><td>SDSSJ2228+1205</td><td>BELLS GALLERY</td><td>0.5305</td><td>2.8324</td><td>1.28</td><td>0.53</td><td>1.0</td><td>255.0</td><td>50.0</td><td>2.13</td><td>0.28</td><td>2.2</td><td>0.14</td><td>-0.1</td><td>1.0</td><td>1.4142135623730951</td></tr>\n",
       "<tr><td>160</td><td>SDSSJ2342-0120</td><td>BELLS GALLERY</td><td>0.527</td><td>2.2649</td><td>1.11</td><td>1.75</td><td>1.0</td><td>274.0</td><td>43.0</td><td>2.3</td><td>0.31</td><td>2.34</td><td>0.07</td><td>-0.09</td><td>1.0</td><td>1.4142135623730951</td></tr>\n",
       "</table>"
      ],
      "text/plain": [
       "<Table masked=True length=161>\n",
       "index    lensName        survey     ...      dd_from_GP       dd_error_from_GP \n",
       "int32    bytes14        bytes15     ...       float64             float64      \n",
       "----- -------------- -------------- ... ------------------- -------------------\n",
       "    0     MG2016+112            LSD ...                 1.0  1.4142135623730951\n",
       "    1       0047-281            LSD ...                 1.0  1.4142135623730951\n",
       "    2    CFRS03.1077            LSD ...                 1.0  1.4142135623730951\n",
       "    3  HST14176+5226            LSD ...                 1.0  1.4142135623730951\n",
       "    4 HSTT15433+5352            LSD ...                 1.0  1.4142135623730951\n",
       "    5 SL2SJ0205-9302           SL2S ... 0.48532036997473127 0.02685808478432862\n",
       "    6 SL2SJ0212-0555           SL2S ...                 1.0  1.4142135623730951\n",
       "    7 SL2SJ0213-0743           SL2S ...                 1.0  1.4142135623730951\n",
       "    8 SL2SJ0214-0405           SL2S ...  0.5564399308299143 0.03530725726876637\n",
       "    9 SL2SJ0217-0513           SL2S ...  0.5296831792197406 0.03339711765307568\n",
       "  ...            ...            ... ...                 ...                 ...\n",
       "  151 SDSSJ0755+3445  BELLS GALLERY ...                 1.0  1.4142135623730951\n",
       "  152 SDSSJ0856+2010  BELLS GALLERY ...                 1.0  1.4142135623730951\n",
       "  153 SDSSJ0918+5104  BELLS GALLERY ...                 1.0  1.4142135623730951\n",
       "  154 SDSSJ1110+2808  BELLS GALLERY ...                 1.0  1.4142135623730951\n",
       "  155 SDSSJ1116+0915  BELLS GALLERY ...                 1.0  1.4142135623730951\n",
       "  156 SDSSJ1141+2216  BELLS GALLERY ...                 1.0  1.4142135623730951\n",
       "  157 SDSSJ1201+4743  BELLS GALLERY ...                 1.0  1.4142135623730951\n",
       "  158 SDSSJ1226+5457  BELLS GALLERY ...                 1.0  1.4142135623730951\n",
       "  159 SDSSJ2228+1205  BELLS GALLERY ...                 1.0  1.4142135623730951\n",
       "  160 SDSSJ2342-0120  BELLS GALLERY ...                 1.0  1.4142135623730951"
      ]
     },
     "execution_count": 48,
     "metadata": {},
     "output_type": "execute_result"
    }
   ],
   "source": [
    "t_gp[t_gp['dd_from_GP']>0]"
   ]
  },
  {
   "cell_type": "code",
   "execution_count": 33,
   "metadata": {},
   "outputs": [
    {
     "data": {
      "text/plain": [
       "161"
      ]
     },
     "execution_count": 33,
     "metadata": {},
     "output_type": "execute_result"
    }
   ],
   "source": [
    "len(dd_CC_GP_err)"
   ]
  },
  {
   "cell_type": "code",
   "execution_count": 40,
   "metadata": {},
   "outputs": [
    {
     "data": {
      "text/html": [
       "<svg  width=\"165\" height=\"55\"><rect x=\"0\" y=\"0\" width=\"55\" height=\"55\" style=\"fill:#e5715e;stroke-width:2;stroke:rgb(255,255,255)\"/><rect x=\"55\" y=\"0\" width=\"55\" height=\"55\" style=\"fill:#c14168;stroke-width:2;stroke:rgb(255,255,255)\"/><rect x=\"110\" y=\"0\" width=\"55\" height=\"55\" style=\"fill:#863071;stroke-width:2;stroke:rgb(255,255,255)\"/></svg>"
      ],
      "text/plain": [
       "['#e5715e', '#c14168', '#863071']"
      ]
     },
     "execution_count": 40,
     "metadata": {},
     "output_type": "execute_result"
    }
   ],
   "source": [
    "import seaborn as sns\n",
    "pal = sns.color_palette('flare',n_colors=3)\n",
    "pal.as_hex()#[0]\n"
   ]
  },
  {
   "cell_type": "code",
   "execution_count": 39,
   "metadata": {},
   "outputs": [
    {
     "data": {
      "text/plain": [
       "'#e98d6b'"
      ]
     },
     "execution_count": 39,
     "metadata": {},
     "output_type": "execute_result"
    }
   ],
   "source": [
    "pal.as_hex()[0]"
   ]
  },
  {
   "cell_type": "code",
   "execution_count": 36,
   "metadata": {},
   "outputs": [
    {
     "data": {
      "text/plain": [
       "(0.9155979, 0.55210684, 0.42070204)"
      ]
     },
     "execution_count": 36,
     "metadata": {},
     "output_type": "execute_result"
    }
   ],
   "source": [
    "pal[0]"
   ]
  },
  {
   "cell_type": "code",
   "execution_count": null,
   "metadata": {},
   "outputs": [],
   "source": [
    "sns.plot()"
   ]
  },
  {
   "cell_type": "code",
   "execution_count": null,
   "metadata": {},
   "outputs": [],
   "source": [
    "tab_ini['dd_from_CCGP'] = "
   ]
  },
  {
   "cell_type": "code",
   "execution_count": 22,
   "metadata": {},
   "outputs": [
    {
     "data": {
      "text/html": [
       "<i>Table masked=True length=161</i>\n",
       "<table id=\"table140533535695536\" class=\"table-striped table-bordered table-condensed\">\n",
       "<thead><tr><th>index</th><th>lensName</th><th>survey</th><th>zl</th><th>zs</th><th>theta_E</th><th>theta_eff</th><th>theta_ap</th><th>sigma_ap</th><th>sigma_err</th><th>gamma_E2022LD</th><th>gamma_E2022LD_err</th><th>gamma_E2022OL</th><th>gamma_E2022OL_err_up</th><th>gamma_E2022OL_err_low</th></tr></thead>\n",
       "<thead><tr><th>int32</th><th>bytes14</th><th>bytes15</th><th>float32</th><th>float32</th><th>float32</th><th>float32</th><th>float32</th><th>float32</th><th>float32</th><th>float64</th><th>float64</th><th>float64</th><th>float64</th><th>float64</th></tr></thead>\n",
       "<tr><td>0</td><td>MG2016+112</td><td>LSD</td><td>1.004</td><td>3.263</td><td>1.56</td><td>0.31</td><td>0.65</td><td>304.0</td><td>27.0</td><td>nan</td><td>nan</td><td>nan</td><td>nan</td><td>nan</td></tr>\n",
       "<tr><td>1</td><td>0047-281</td><td>LSD</td><td>0.485</td><td>3.595</td><td>1.34</td><td>0.82</td><td>0.41</td><td>219.0</td><td>12.0</td><td>nan</td><td>nan</td><td>nan</td><td>nan</td><td>nan</td></tr>\n",
       "<tr><td>2</td><td>CFRS03.1077</td><td>LSD</td><td>0.938</td><td>2.941</td><td>1.24</td><td>1.6</td><td>0.46</td><td>256.0</td><td>19.0</td><td>nan</td><td>nan</td><td>nan</td><td>nan</td><td>nan</td></tr>\n",
       "<tr><td>3</td><td>HST14176+5226</td><td>LSD</td><td>0.81</td><td>3.399</td><td>1.41</td><td>1.06</td><td>0.37</td><td>212.0</td><td>18.0</td><td>nan</td><td>nan</td><td>nan</td><td>nan</td><td>nan</td></tr>\n",
       "<tr><td>4</td><td>HSTT15433+5352</td><td>LSD</td><td>0.497</td><td>2.092</td><td>0.36</td><td>0.41</td><td>0.35</td><td>108.0</td><td>14.0</td><td>nan</td><td>nan</td><td>nan</td><td>nan</td><td>nan</td></tr>\n",
       "<tr><td>5</td><td>SL2SJ0205-9302</td><td>SL2S</td><td>0.557</td><td>1.33</td><td>0.76</td><td>0.75</td><td>0.69</td><td>276.0</td><td>37.0</td><td>nan</td><td>nan</td><td>nan</td><td>nan</td><td>nan</td></tr>\n",
       "<tr><td>6</td><td>SL2SJ0212-0555</td><td>SL2S</td><td>0.75</td><td>2.74</td><td>1.27</td><td>1.22</td><td>0.69</td><td>273.0</td><td>22.0</td><td>nan</td><td>nan</td><td>nan</td><td>nan</td><td>nan</td></tr>\n",
       "<tr><td>7</td><td>SL2SJ0213-0743</td><td>SL2S</td><td>0.717</td><td>3.48</td><td>2.39</td><td>1.97</td><td>0.75</td><td>293.0</td><td>34.0</td><td>nan</td><td>nan</td><td>nan</td><td>nan</td><td>nan</td></tr>\n",
       "<tr><td>8</td><td>SL2SJ0214-0405</td><td>SL2S</td><td>0.609</td><td>1.88</td><td>1.41</td><td>1.21</td><td>0.79</td><td>287.0</td><td>47.0</td><td>nan</td><td>nan</td><td>nan</td><td>nan</td><td>nan</td></tr>\n",
       "<tr><td>9</td><td>SL2SJ0217-0513</td><td>SL2S</td><td>0.646</td><td>1.85</td><td>1.27</td><td>0.73</td><td>0.92</td><td>239.0</td><td>27.0</td><td>nan</td><td>nan</td><td>nan</td><td>nan</td><td>nan</td></tr>\n",
       "<tr><td>...</td><td>...</td><td>...</td><td>...</td><td>...</td><td>...</td><td>...</td><td>...</td><td>...</td><td>...</td><td>...</td><td>...</td><td>...</td><td>...</td><td>...</td></tr>\n",
       "<tr><td>151</td><td>SDSSJ0755+3445</td><td>BELLS GALLERY</td><td>0.7224</td><td>2.6347</td><td>2.05</td><td>2.89</td><td>1.0</td><td>272.0</td><td>52.0</td><td>1.72</td><td>0.28</td><td>1.77</td><td>0.08</td><td>-0.05</td></tr>\n",
       "<tr><td>152</td><td>SDSSJ0856+2010</td><td>BELLS GALLERY</td><td>0.5074</td><td>2.2335</td><td>0.98</td><td>0.51</td><td>1.0</td><td>334.0</td><td>54.0</td><td>2.55</td><td>0.23</td><td>2.23</td><td>0.08</td><td>-0.09</td></tr>\n",
       "<tr><td>153</td><td>SDSSJ0918+5104</td><td>BELLS GALLERY</td><td>0.5811</td><td>2.403</td><td>1.6</td><td>0.57</td><td>1.0</td><td>298.0</td><td>49.0</td><td>2.14</td><td>0.26</td><td>2.38</td><td>0.16</td><td>-0.18</td></tr>\n",
       "<tr><td>154</td><td>SDSSJ1110+2808</td><td>BELLS GALLERY</td><td>0.6073</td><td>2.3999</td><td>0.98</td><td>1.45</td><td>1.0</td><td>191.0</td><td>39.0</td><td>1.88</td><td>0.3</td><td>2.03</td><td>0.09</td><td>-0.07</td></tr>\n",
       "<tr><td>155</td><td>SDSSJ1116+0915</td><td>BELLS GALLERY</td><td>0.5501</td><td>2.4536</td><td>1.03</td><td>0.98</td><td>1.0</td><td>274.0</td><td>55.0</td><td>2.23</td><td>0.25</td><td>2.22</td><td>0.16</td><td>-0.17</td></tr>\n",
       "<tr><td>156</td><td>SDSSJ1141+2216</td><td>BELLS GALLERY</td><td>0.5858</td><td>2.7624</td><td>1.27</td><td>0.44</td><td>1.0</td><td>285.0</td><td>44.0</td><td>2.22</td><td>0.26</td><td>2.13</td><td>0.09</td><td>-0.11</td></tr>\n",
       "<tr><td>157</td><td>SDSSJ1201+4743</td><td>BELLS GALLERY</td><td>0.5628</td><td>2.1258</td><td>1.18</td><td>0.48</td><td>1.0</td><td>239.0</td><td>43.0</td><td>2.09</td><td>0.27</td><td>2.74</td><td>0.05</td><td>-0.21</td></tr>\n",
       "<tr><td>158</td><td>SDSSJ1226+5457</td><td>BELLS GALLERY</td><td>0.498</td><td>2.7322</td><td>1.37</td><td>0.56</td><td>1.0</td><td>248.0</td><td>26.0</td><td>2.06</td><td>0.21</td><td>2.24</td><td>0.07</td><td>-0.1</td></tr>\n",
       "<tr><td>159</td><td>SDSSJ2228+1205</td><td>BELLS GALLERY</td><td>0.5305</td><td>2.8324</td><td>1.28</td><td>0.53</td><td>1.0</td><td>255.0</td><td>50.0</td><td>2.13</td><td>0.28</td><td>2.2</td><td>0.14</td><td>-0.1</td></tr>\n",
       "<tr><td>160</td><td>SDSSJ2342-0120</td><td>BELLS GALLERY</td><td>0.527</td><td>2.2649</td><td>1.11</td><td>1.75</td><td>1.0</td><td>274.0</td><td>43.0</td><td>2.3</td><td>0.31</td><td>2.34</td><td>0.07</td><td>-0.09</td></tr>\n",
       "</table>"
      ],
      "text/plain": [
       "<Table masked=True length=161>\n",
       "index    lensName    ... gamma_E2022OL_err_up gamma_E2022OL_err_low\n",
       "int32    bytes14     ...       float64               float64       \n",
       "----- -------------- ... -------------------- ---------------------\n",
       "    0     MG2016+112 ...                  nan                   nan\n",
       "    1       0047-281 ...                  nan                   nan\n",
       "    2    CFRS03.1077 ...                  nan                   nan\n",
       "    3  HST14176+5226 ...                  nan                   nan\n",
       "    4 HSTT15433+5352 ...                  nan                   nan\n",
       "    5 SL2SJ0205-9302 ...                  nan                   nan\n",
       "    6 SL2SJ0212-0555 ...                  nan                   nan\n",
       "    7 SL2SJ0213-0743 ...                  nan                   nan\n",
       "    8 SL2SJ0214-0405 ...                  nan                   nan\n",
       "    9 SL2SJ0217-0513 ...                  nan                   nan\n",
       "  ...            ... ...                  ...                   ...\n",
       "  151 SDSSJ0755+3445 ...                 0.08                 -0.05\n",
       "  152 SDSSJ0856+2010 ...                 0.08                 -0.09\n",
       "  153 SDSSJ0918+5104 ...                 0.16                 -0.18\n",
       "  154 SDSSJ1110+2808 ...                 0.09                 -0.07\n",
       "  155 SDSSJ1116+0915 ...                 0.16                 -0.17\n",
       "  156 SDSSJ1141+2216 ...                 0.09                 -0.11\n",
       "  157 SDSSJ1201+4743 ...                 0.05                 -0.21\n",
       "  158 SDSSJ1226+5457 ...                 0.07                  -0.1\n",
       "  159 SDSSJ2228+1205 ...                 0.14                  -0.1\n",
       "  160 SDSSJ2342-0120 ...                 0.07                 -0.09"
      ]
     },
     "execution_count": 22,
     "metadata": {},
     "output_type": "execute_result"
    }
   ],
   "source": [
    "tab_ini = Table.read(os.path.join(path_project, 'Data' , 'LensTable02.fits'))\n",
    "tab_ini"
   ]
  },
  {
   "cell_type": "code",
   "execution_count": 23,
   "metadata": {},
   "outputs": [],
   "source": [
    "tab_ini.rename_column( 'sigma_err', 'sigma_ap_err')"
   ]
  },
  {
   "cell_type": "code",
   "execution_count": 25,
   "metadata": {},
   "outputs": [],
   "source": [
    "tab_ini.write(os.path.join(path_project, 'Data' , 'LensTable02.fits'), overwrite=True)"
   ]
  },
  {
   "cell_type": "code",
   "execution_count": 28,
   "metadata": {},
   "outputs": [
    {
     "data": {
      "text/plain": [
       "126"
      ]
     },
     "execution_count": 28,
     "metadata": {},
     "output_type": "execute_result"
    }
   ],
   "source": [
    "len(tab_ini[tab_ini['zs']<2])"
   ]
  },
  {
   "cell_type": "code",
   "execution_count": null,
   "metadata": {},
   "outputs": [],
   "source": []
  }
 ],
 "metadata": {
  "kernelspec": {
   "display_name": "Python 3",
   "language": "python",
   "name": "python3"
  },
  "language_info": {
   "codemirror_mode": {
    "name": "ipython",
    "version": 3
   },
   "file_extension": ".py",
   "mimetype": "text/x-python",
   "name": "python",
   "nbconvert_exporter": "python",
   "pygments_lexer": "ipython3",
   "version": "3.8.10"
  },
  "orig_nbformat": 4,
  "vscode": {
   "interpreter": {
    "hash": "916dbcbb3f70747c44a77c7bcd40155683ae19c65e1c03b4aa3499c5328201f1"
   }
  }
 },
 "nbformat": 4,
 "nbformat_minor": 2
}
